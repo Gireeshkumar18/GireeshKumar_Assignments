{
 "cells": [
  {
   "cell_type": "markdown",
   "id": "f4151359",
   "metadata": {},
   "source": [
    "# 1. What are the two values of the Boolean data type? How do you write them?\n",
    "\n",
    "True, False\n",
    "\n"
   ]
  },
  {
   "cell_type": "markdown",
   "id": "479e6031",
   "metadata": {},
   "source": [
    "# 2.  What are the three different types of Boolean operators?\n",
    "\n",
    "AND, OR, NOT"
   ]
  },
  {
   "cell_type": "markdown",
   "id": "4c109e04",
   "metadata": {},
   "source": [
    "# 3. Make a list of each Boolean operator's truth tables (i.e. every possible combination of Boolean values for the operator and what it evaluate )."
   ]
  },
  {
   "cell_type": "raw",
   "id": "826d6ed8",
   "metadata": {},
   "source": [
    "True or True   == True\n",
    "True or False  == True\n",
    "False or True  == True\n",
    "False or False == False\n",
    "\n",
    "(not False) or (not False)   == True\n",
    "(not False) or (not True)    == True\n",
    "(not True) or (not False)    == False\n",
    "(not True) or (not True)     == False\n",
    "\n",
    "True and True   == True\n",
    "True and False  == False\n",
    "False and True  == False\n",
    "False and False == False\n",
    "\n",
    "(not False) and (not False)    == True\n",
    "(not False) and (not True)     == False\n",
    "(not True)  and (not False)    == False\n",
    "(not True)  and (not True)     == False\n"
   ]
  },
  {
   "cell_type": "markdown",
   "id": "0bff812a",
   "metadata": {},
   "source": [
    "# 4. What are the values of the following expressions?"
   ]
  },
  {
   "cell_type": "raw",
   "id": "c4a86a3b",
   "metadata": {},
   "source": [
    "\n",
    "(5 > 4) and (3 == 5)                 - False\n",
    "not (5 > 4)                          - False\n",
    "(5 > 4) or (3 == 5)                  - True\n",
    "not ((5 > 4) or (3 == 5))            - False\n",
    "(True and True) and (True == False)  - False\n",
    "(not False) or (not True)            - True\n",
    "\n",
    "\n",
    "\n"
   ]
  },
  {
   "cell_type": "markdown",
   "id": "ee2bf19a",
   "metadata": {},
   "source": [
    "# 5. What are the six comparison operators?\n",
    "\n",
    "<, >, ==, !=, <=, >=\n",
    "\n"
   ]
  },
  {
   "cell_type": "markdown",
   "id": "f7f7b66c",
   "metadata": {},
   "source": [
    "# 6. How do you tell the difference between the equal to and assignment operators?Describe a condition and when you would use one.\n",
    "\n",
    "assignment operation: a=10, b=20\n",
    "equal to operation: a==b\n",
    "\n",
    "\n"
   ]
  },
  {
   "cell_type": "markdown",
   "id": "0916c608",
   "metadata": {},
   "source": [
    "# 7. Identify the three blocks in this code:"
   ]
  },
  {
   "cell_type": "raw",
   "id": "c9dcc998",
   "metadata": {},
   "source": [
    "    \n",
    "spam = 0              --------------- block 1\n",
    "\n",
    "if spam == 10:        --------------- block 2\n",
    "    print('eggs')\n",
    "\n",
    "if spam > 5:          ---------------block 3\n",
    "    print('bacon')\n",
    "else:\n",
    "    print('ham')\n",
    "    print('spam')\n",
    "    print('spam')\n"
   ]
  },
  {
   "cell_type": "markdown",
   "id": "bfb30b10",
   "metadata": {},
   "source": [
    "# 8. Write code that prints Hello if 1 is stored in spam, prints Howdy if 2 is stored in spam, and prints Greetings! if anything else is stored in spam."
   ]
  },
  {
   "cell_type": "code",
   "execution_count": 35,
   "id": "e9656292",
   "metadata": {},
   "outputs": [
    {
     "name": "stdout",
     "output_type": "stream",
     "text": [
      "Howdy\n"
     ]
    }
   ],
   "source": [
    "spam = 2\n",
    "if spam == 1:\n",
    "    print('Hello')\n",
    "elif spam == 2:\n",
    "    print('Howdy')\n",
    "else:\n",
    "    print('Greetings')"
   ]
  },
  {
   "cell_type": "markdown",
   "id": "25938da9",
   "metadata": {},
   "source": [
    "# 9.If your programme is stuck in an endless loop, what keys you’ll press?\n"
   ]
  },
  {
   "cell_type": "raw",
   "id": "c10202be",
   "metadata": {},
   "source": [
    "\n",
    "In python IDE, we have to press ctrl + c\n",
    "in jupyter notebook, we have to press select the infinite program cell and press stop button"
   ]
  },
  {
   "cell_type": "markdown",
   "id": "6778c682",
   "metadata": {},
   "source": [
    "# 10. How can you tell the difference between break and continue?"
   ]
  },
  {
   "cell_type": "raw",
   "id": "6a86a606",
   "metadata": {},
   "source": [
    "\n",
    "\n",
    "the break statement breaks the loop where as the continue statement continues the loop to iterate"
   ]
  },
  {
   "cell_type": "markdown",
   "id": "1607f302",
   "metadata": {},
   "source": [
    "# 11. In a for loop, what is the difference between range(10), range(0, 10), and range(0, 10, 1)?"
   ]
  },
  {
   "cell_type": "raw",
   "id": "fc66c84f",
   "metadata": {},
   "source": [
    "\n",
    "\n",
    "range(0) and range(0,10) are same, the for loop iterates for 10 iterations\n",
    "\n",
    "range(0,10,1) - this is also same but, the interpreter considers 10 values from 0 to 9 with an increment of 1"
   ]
  },
  {
   "cell_type": "markdown",
   "id": "93e4d60d",
   "metadata": {},
   "source": [
    "# 12. Write a short program that prints the numbers 1 to 10 using a for loop. Then write an equivalent program that prints the numbers 1 to 10 using a while loop.\n"
   ]
  },
  {
   "cell_type": "code",
   "execution_count": 36,
   "id": "5cdc5afc",
   "metadata": {},
   "outputs": [
    {
     "name": "stdout",
     "output_type": "stream",
     "text": [
      "0\n",
      "1\n",
      "2\n",
      "3\n",
      "4\n",
      "5\n",
      "6\n",
      "7\n",
      "8\n",
      "9\n"
     ]
    }
   ],
   "source": [
    "for i in range(10):\n",
    "    print(i)"
   ]
  },
  {
   "cell_type": "code",
   "execution_count": 37,
   "id": "90daca10",
   "metadata": {},
   "outputs": [
    {
     "name": "stdout",
     "output_type": "stream",
     "text": [
      "0\n",
      "1\n",
      "2\n",
      "3\n",
      "4\n",
      "5\n",
      "6\n",
      "7\n",
      "8\n",
      "9\n"
     ]
    }
   ],
   "source": [
    "i=0\n",
    "while (i <10):\n",
    "    print(i)\n",
    "    i+=1"
   ]
  },
  {
   "cell_type": "markdown",
   "id": "5d79ed0e",
   "metadata": {},
   "source": [
    "# 13. If you had a function named bacon() inside a module named spam, how would you call it after importing spam?"
   ]
  },
  {
   "cell_type": "raw",
   "id": "d8153ed0",
   "metadata": {},
   "source": [
    "\n",
    "\n",
    "spam.becon()"
   ]
  },
  {
   "cell_type": "code",
   "execution_count": null,
   "id": "2882651e",
   "metadata": {},
   "outputs": [],
   "source": []
  }
 ],
 "metadata": {
  "kernelspec": {
   "display_name": "Python 3 (ipykernel)",
   "language": "python",
   "name": "python3"
  },
  "language_info": {
   "codemirror_mode": {
    "name": "ipython",
    "version": 3
   },
   "file_extension": ".py",
   "mimetype": "text/x-python",
   "name": "python",
   "nbconvert_exporter": "python",
   "pygments_lexer": "ipython3",
   "version": "3.9.7"
  }
 },
 "nbformat": 4,
 "nbformat_minor": 5
}
