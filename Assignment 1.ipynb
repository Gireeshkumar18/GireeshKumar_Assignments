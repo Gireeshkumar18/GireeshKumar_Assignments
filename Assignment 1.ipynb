{
 "cells": [
  {
   "cell_type": "markdown",
   "id": "d28e6d8c",
   "metadata": {},
   "source": [
    "# 1. In the below elements which of them are values or an expression? \n",
    "eg:- values can be integer or string and expressions will be mathematical operators.\n",
    "\n",
    "*        - expression\n",
    "'hello'  - value\n",
    "-87.8    - value\n",
    "-        - expression\n",
    "/        - expression\n",
    "+\t     - expression\n",
    "6        - value\n",
    "\n",
    "\n",
    "\n"
   ]
  },
  {
   "cell_type": "markdown",
   "id": "52e0f336",
   "metadata": {},
   "source": [
    "2. What is the difference between string and variable?\n",
    "\n",
    "a string is a collection of words(which is collection of characters) and a variable is a value which can change\n",
    "\n"
   ]
  },
  {
   "cell_type": "markdown",
   "id": "22b5e0b6",
   "metadata": {},
   "source": [
    "3. Describe three different data types.\n",
    "A data type specifies the type of data. The following are the different datatypes used in Python:\n",
    "Numeric - it includes numbers. The number value can be integer, float and complex numbers.\n",
    "String  - a single character or collection of characters (word).\n",
    "Boolean - True or False.\n"
   ]
  },
  {
   "cell_type": "markdown",
   "id": "5ad4355c",
   "metadata": {},
   "source": [
    "\n",
    "4. What is an expression made up of? What do all expressions do?\n",
    "an expression is a combination of statement and operands and operators like arithmetic, logical and relational\n",
    "\n"
   ]
  },
  {
   "cell_type": "markdown",
   "id": "0a0d460a",
   "metadata": {},
   "source": [
    "\n",
    "5. This assignment statements, like spam = 10. What is the difference between an expression and a statement?\n",
    "Statements end up in value assignment whereas the expression does some action.\n",
    "\n",
    "\n",
    "6. After running the following code, what does the variable bacon contain?\n",
    "bacon = 22\n",
    "bacon + 1\n",
    "\n",
    "bacon contains the same value i,e bacon=22\n",
    "\n",
    "\n",
    "7. What should the values of the following two terms be?\n",
    "'spam' + 'spamspam' - output - 'spamspamspam'\n",
    "'spam' * 3          - output - error as 3 is an integer and 'spam' is a string data type\n",
    "\n",
    "\n",
    "\n",
    "\n",
    "8. Why is eggs a valid variable name while 100 is invalid?\n",
    "100 is not a variable name because the variable name has to start with a character\n",
    "\n",
    "9. What three functions can be used to get the integer, floating-point number, or string version of a value?\n",
    "\n",
    "consider a=10.23.\n",
    "int(a) - gives integer value of a i,e 10.\n",
    "float(a) - gives float value of a i,e 10.23.\n",
    "str(a) - gives the string version of a i,e '10.23'\n",
    "\n",
    "\n",
    "\n",
    "10. Why does this expression cause an error? How can you fix it?\n",
    "'I have eaten ' + 99 + ' burritos.'\n",
    "\n",
    "the error is caused due to mismatatch in the concatenation. It can be corrected by type casting the 99 value to sting as shown below\n",
    "\n",
    "'I have eaten ' + str(99) + ' burritos.'"
   ]
  }
 ],
 "metadata": {
  "kernelspec": {
   "display_name": "Python 3 (ipykernel)",
   "language": "python",
   "name": "python3"
  },
  "language_info": {
   "codemirror_mode": {
    "name": "ipython",
    "version": 3
   },
   "file_extension": ".py",
   "mimetype": "text/x-python",
   "name": "python",
   "nbconvert_exporter": "python",
   "pygments_lexer": "ipython3",
   "version": "3.9.7"
  }
 },
 "nbformat": 4,
 "nbformat_minor": 5
}
