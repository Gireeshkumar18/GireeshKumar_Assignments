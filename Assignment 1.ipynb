{
 "cells": [
  {
   "cell_type": "raw",
   "id": "cffe27c6",
   "metadata": {},
   "source": [
    "1. In the below elements which of them are values or an expression? \n",
    "eg:- values can be integer or string and expressions will be mathematical operators.\n",
    "\n",
    "*        - expression\n",
    "'hello'  - value\n",
    "-87.8    - value\n",
    "-        - expression\n",
    "/        - expression\n",
    "+\t     - expression\n",
    "6        - value\n",
    "\n",
    "\n",
    "2. What is the difference between string and variable?\n",
    "\n",
    "a string is a collection of words and a variable is a value which can change\n",
    "\n",
    "\n",
    "3. Describe three different data types.\n",
    "Int, string and Boolean\n",
    "\n",
    "\n",
    "4. What is an expression made up of? What do all expressions do?\n",
    "an expression is made up of operators like arithmetic, logical and relational\n",
    "\n",
    "\n",
    "5. This assignment statements, like spam = 10. What is the difference between an expression and a statement?\n",
    "\n",
    "\n",
    "\n",
    "6. After running the following code, what does the variable bacon contain?\n",
    "bacon = 22\n",
    "bacon + 1\n",
    "\n",
    "bacon contains the same value i,e bacon=22\n",
    "\n",
    "\n",
    "7. What should the values of the following two terms be?\n",
    "'spam' + 'spamspam' - output - 'spamspamspam'\n",
    "'spam' * 3          - output - error as 3 is an integer and 'spam' is a string data type\n",
    "\n",
    "\n",
    "\n",
    "\n",
    "8. Why is eggs a valid variable name while 100 is invalid?\n",
    "100 is not a variable name because the variable name has to start with a character\n",
    "\n",
    "9. What three functions can be used to get the integer, floating-point number, or string version of a value?\n",
    "\n",
    "\n",
    "\n",
    "10. Why does this expression cause an error? How can you fix it?\n",
    "'I have eaten ' + 99 + ' burritos.'\n",
    "\n",
    "the error is caused due to mismatatch in the concatenation. It can be corrected by type casting the 99 value to sting as shown below\n",
    "\n",
    "'I have eaten ' + str(99) + ' burritos.'\n"
   ]
  },
  {
   "cell_type": "code",
   "execution_count": 2,
   "id": "38882331",
   "metadata": {},
   "outputs": [
    {
     "data": {
      "text/plain": [
       "'I have eaten 99 burritos.'"
      ]
     },
     "execution_count": 2,
     "metadata": {},
     "output_type": "execute_result"
    }
   ],
   "source": [
    "'I have eaten ' + str(99) + ' burritos.'"
   ]
  },
  {
   "cell_type": "code",
   "execution_count": null,
   "id": "95cd0110",
   "metadata": {},
   "outputs": [],
   "source": []
  }
 ],
 "metadata": {
  "kernelspec": {
   "display_name": "Python 3 (ipykernel)",
   "language": "python",
   "name": "python3"
  },
  "language_info": {
   "codemirror_mode": {
    "name": "ipython",
    "version": 3
   },
   "file_extension": ".py",
   "mimetype": "text/x-python",
   "name": "python",
   "nbconvert_exporter": "python",
   "pygments_lexer": "ipython3",
   "version": "3.9.7"
  }
 },
 "nbformat": 4,
 "nbformat_minor": 5
}
